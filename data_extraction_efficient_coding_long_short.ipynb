{
 "cells": [
  {
   "cell_type": "code",
   "execution_count": 1,
   "id": "f87c3ef4",
   "metadata": {},
   "outputs": [],
   "source": [
    "import pandas as pd\n",
    "import json\n",
    "import os\n",
    "import matplotlib.pyplot as plt\n",
    "import seaborn as sns\n",
    "import numpy as np\n",
    "from matplotlib.patches import Patch\n",
    "import matplotlib.patches as patches\n",
    "import statsmodels.api as sm\n",
    "import statsmodels.formula.api as smf\n",
    "from statsmodels.genmod.bayes_mixed_glm import BinomialBayesMixedGLM\n",
    "import scipy.stats as stats\n",
    "from scipy.stats import spearmanr\n",
    "from sklearn.utils import resample\n",
    "from statsmodels.stats.power import GofChisquarePower\n",
    "from scipy.stats import norm\n",
    "from scipy.stats import wilcoxon"
   ]
  },
  {
   "cell_type": "markdown",
   "id": "7652c39a",
   "metadata": {},
   "source": [
    "# Extract data from firebase"
   ]
  },
  {
   "cell_type": "code",
   "execution_count": 2,
   "id": "45932a82",
   "metadata": {},
   "outputs": [],
   "source": [
    "# Function to convert trials data to DataFrame\n",
    "def trials_to_dataframe_new(data_list, phase_key):\n",
    "    all_trials = []\n",
    "    trial_numbers = set()  # To keep track of unique trial numbers\n",
    "\n",
    "    for item in data_list:\n",
    "        if phase_key in item:\n",
    "            print(f\"Found phase key: {phase_key}\")\n",
    "            phase_data = item[phase_key]\n",
    "            # Check if dataIncomplete exists\n",
    "            if 'dataIncomplete' in phase_data and 'fields' in phase_data['dataIncomplete'] and 'trials' in phase_data['dataIncomplete']['fields']:\n",
    "                print(f\"Using dataIncomplete for {phase_key}\")\n",
    "                trials = phase_data['dataIncomplete']['fields']['trials']\n",
    "                for trial in trials:\n",
    "                    trial_number = trial.get('trialNumber')\n",
    "                    if trial_number not in trial_numbers:\n",
    "                        all_trials.append(trial)\n",
    "                        trial_numbers.add(trial_number)\n",
    "                break  # Skip processing batches if dataIncomplete is found\n",
    "\n",
    "            for batch_key in phase_data:\n",
    "                print(f\"Processing {batch_key}\")\n",
    "                batch_data = phase_data[batch_key]\n",
    "                if 'fields' in batch_data and 'trials' in batch_data['fields']:\n",
    "                    trials = batch_data['fields']['trials']\n",
    "                    for trial in trials:\n",
    "                        trial_number = trial.get('trialNumber')\n",
    "                        # Only add the trial if it hasn't been added before\n",
    "                        if trial_number not in trial_numbers:\n",
    "                            all_trials.append(trial)\n",
    "                            trial_numbers.add(trial_number)\n",
    "                        else: \n",
    "                            print(\"there's a duplicate trial\")\n",
    "\n",
    "    if all_trials:\n",
    "        return pd.DataFrame(all_trials)\n",
    "    else:\n",
    "        return None"
   ]
  },
  {
   "cell_type": "code",
   "execution_count": 3,
   "id": "bd752be0",
   "metadata": {},
   "outputs": [],
   "source": [
    "# Create list of dictionaries for subjects\n",
    "subjects = []"
   ]
  },
  {
   "cell_type": "code",
   "execution_count": 4,
   "id": "63178352",
   "metadata": {},
   "outputs": [],
   "source": [
    "# for the pilot study I need to combine the data in raw data from pilot study 2 and pilot study 2  suite\n",
    "# Directory containing the JSON files\n",
    "directory = '/Users/jadeserfaty/Library/Mobile Documents/com~apple~CloudDocs/code/lido/introspection_task/public/data/raw/tasks/'"
   ]
  },
  {
   "cell_type": "code",
   "execution_count": 5,
   "id": "6e666ea6",
   "metadata": {},
   "outputs": [
    {
     "name": "stdout",
     "output_type": "stream",
     "text": [
      "0.json\n",
      "LhCpZNJ8jGbt36bT2wJdFzeNSEO2\n",
      "Found phase key: browser_checks\n",
      "Processing data\n",
      "No data loaded for emotionDiscriminationPhase in file 0.json\n",
      "No data loaded for ratingPhase1 in file 0.json\n",
      "No data loaded for ratingPhase2 in file 0.json\n",
      "No data loaded for viewingPhase in file 0.json\n",
      "1.json\n",
      "oSLrRv2A4tY3W9shdteHa9dr67l2\n",
      "Found phase key: browser_checks\n",
      "Processing data\n",
      "No data loaded for emotionDiscriminationPhase in file 1.json\n",
      "Found phase key: ratingPhase1\n",
      "Processing batch_0\n",
      "Processing batch_1\n",
      "there's a duplicate trial\n",
      "Processing batch_2\n",
      "there's a duplicate trial\n",
      "Processing batch_3\n",
      "there's a duplicate trial\n",
      "Processing batch_4\n",
      "there's a duplicate trial\n",
      "Found phase key: ratingPhase2\n",
      "Processing batch_0\n",
      "Processing batch_1\n",
      "there's a duplicate trial\n",
      "Processing batch_2\n",
      "there's a duplicate trial\n",
      "Processing batch_3\n",
      "there's a duplicate trial\n",
      "Processing batch_4\n",
      "there's a duplicate trial\n",
      "Found phase key: viewingPhase\n",
      "Processing batch_0\n",
      "Processing batch_1\n",
      "there's a duplicate trial\n",
      "Processing batch_2\n",
      "there's a duplicate trial\n",
      "Processing batch_3\n",
      "there's a duplicate trial\n",
      "Processing batch_4\n",
      "there's a duplicate trial\n",
      "Processing batch_5\n",
      "there's a duplicate trial\n",
      "2.json\n",
      "oScZl6u92uaVFW4j3HpJFCJLAvM2\n",
      "Found phase key: browser_checks\n",
      "Processing data\n",
      "No data loaded for emotionDiscriminationPhase in file 2.json\n",
      "No data loaded for ratingPhase1 in file 2.json\n",
      "No data loaded for ratingPhase2 in file 2.json\n",
      "No data loaded for viewingPhase in file 2.json\n",
      "3.json\n",
      "vuRNxPRtmJYSyfzkPXOoHcEmdnq1\n",
      "Found phase key: browser_checks\n",
      "Processing data\n",
      "No data loaded for emotionDiscriminationPhase in file 3.json\n",
      "No data loaded for ratingPhase1 in file 3.json\n",
      "No data loaded for ratingPhase2 in file 3.json\n",
      "Found phase key: viewingPhase\n",
      "Processing batch_0\n",
      "Processing batch_1\n",
      "there's a duplicate trial\n",
      "Processing batch_2\n",
      "there's a duplicate trial\n",
      "there's a duplicate trial\n",
      "Processing batch_3\n",
      "there's a duplicate trial\n",
      "Processing batch_4\n",
      "there's a duplicate trial\n",
      "4.json\n",
      "xA8V6MZ1d6a6a4RxyaCPuBsMBmk1\n",
      "Found phase key: browser_checks\n",
      "Processing data\n",
      "No data loaded for emotionDiscriminationPhase in file 4.json\n",
      "No data loaded for ratingPhase1 in file 4.json\n",
      "No data loaded for ratingPhase2 in file 4.json\n",
      "No data loaded for viewingPhase in file 4.json\n",
      "DataFrame for browser_checks:\n",
      "   webcam  trial_index  vsync_rate internal_node_id     trial_type  \\\n",
      "0    True            0       61.41      0.0-0.0-0.0  browser-check   \n",
      "\n",
      "        taskPhase  fullscreen browser  webaudio  height      os  time_elapsed  \\\n",
      "0  browser_checks        True  chrome      True     749  Mac OS           985   \n",
      "\n",
      "  browser_version  mobile  width  microphone  \n",
      "0         125.0.0   False   1410        True  \n"
     ]
    }
   ],
   "source": [
    "# Process each JSON file\n",
    "for filename in os.listdir(directory):\n",
    "    if \"json\" in filename:\n",
    "        print(filename)\n",
    "        # Create DataFrames for each phase\n",
    "        dfs = {}\n",
    "        if filename.endswith('.json'):\n",
    "            file_path = os.path.join(directory, filename)\n",
    "            with open(file_path, 'r') as file:\n",
    "                subject_data_list = json.load(file)\n",
    "                setupData = pd.DataFrame([subject_data_list[0][\"fields\"]])\n",
    "                setupData[\"id\"] = subject_data_list[0][\"id\"]\n",
    "                dfs[\"setupData\"] = setupData\n",
    "                print(subject_data_list[0][\"id\"])\n",
    "            for phase_key in ['browser_checks', 'emotionDiscriminationPhase', 'ratingPhase1', 'ratingPhase2', 'viewingPhase']:\n",
    "                df = trials_to_dataframe_new(subject_data_list, phase_key)\n",
    "                if df is not None:\n",
    "                    if phase_key not in dfs:\n",
    "                        dfs[phase_key] = df\n",
    "                    else:\n",
    "                        dfs[phase_key] = pd.concat([dfs[phase_key], df], ignore_index=True)\n",
    "                else:\n",
    "                    print(f\"No data loaded for {phase_key} in file {filename}\")\n",
    "\n",
    "        subjects.append(dfs)\n",
    "\n",
    "\n",
    "# Example to print out one of the DataFrames\n",
    "if 'browser_checks' in dfs:\n",
    "    print(\"DataFrame for browser_checks:\")\n",
    "    print(dfs['browser_checks'])\n",
    "else:\n",
    "    print(\"No data found for browser_checks\")"
   ]
  },
  {
   "cell_type": "markdown",
   "id": "8e4f70e0",
   "metadata": {},
   "source": [
    "# Check participant's timings"
   ]
  },
  {
   "cell_type": "code",
   "execution_count": 8,
   "id": "21a23395",
   "metadata": {},
   "outputs": [
    {
     "name": "stdout",
     "output_type": "stream",
     "text": [
      "the subject index is: 1\n",
      "it's completed\n"
     ]
    }
   ],
   "source": [
    "firebaseIDFocus = \"oSLrRv2A4tY3W9shdteHa9dr67l2\"\n",
    "prolific_ids = []\n",
    "# DEFINE SUBJECT OF FOCUS HERE\n",
    "for subject in range(len(subjects)): \n",
    "    if \"subjectID_prolific\" in subjects[subject]['setupData'].keys():\n",
    "        prolific_ids.append(subjects[subject]['setupData'][\"subjectID_prolific\"].iloc[0])\n",
    "        if subjects[subject]['setupData'][\"uid_firebase\"].iloc[0] == firebaseIDFocus:\n",
    "            print(\"the subject index is: \" + str(subject))\n",
    "            if subjects[subject]['setupData'][\"completed\"].iloc[0] == 1: \n",
    "                print(\"it's completed\")\n",
    "            else: \n",
    "                print(\"it's NOT completed\")\n",
    "            subjectFocus = subjects[subject]\n",
    "\n",
    "#     if len(prolific_ids) != len(np.unique(prolific_ids)):\n",
    "#         print(\"ATTENTION one or more participant did the study more than once!\")\n",
    "#     else: \n",
    "#         print(\"all participants are unique!\")"
   ]
  },
  {
   "cell_type": "code",
   "execution_count": 9,
   "id": "1ae2284b",
   "metadata": {},
   "outputs": [
    {
     "name": "stdout",
     "output_type": "stream",
     "text": [
      "the viewing phase lasts: 17.376766666666665 minutes.\n"
     ]
    }
   ],
   "source": [
    "duration_viewing_phase_ms = subjectFocus[\"viewingPhase\"][\"time_elapsed\"][len(subjectFocus[\"viewingPhase\"][\"time_elapsed\"])-1] - subjectFocus[\"viewingPhase\"][\"time_elapsed\"].iloc[0]\n",
    "duration_viewing_phase_min = duration_viewing_phase_ms/1000/60\n",
    "print(\"the viewing phase lasts: \" + str(duration_viewing_phase_min) + \" minutes.\")"
   ]
  },
  {
   "cell_type": "code",
   "execution_count": 10,
   "id": "42958dcd",
   "metadata": {},
   "outputs": [
    {
     "name": "stdout",
     "output_type": "stream",
     "text": [
      "the rating phase 1 lasts: 18.4667 minutes.\n"
     ]
    }
   ],
   "source": [
    "if len(subjectFocus[\"ratingPhase1\"]) !=0:\n",
    "    duration_rating_phase1_ms = subjectFocus[\"ratingPhase1\"][\"time_elapsed\"][len(subjectFocus[\"ratingPhase1\"][\"time_elapsed\"])-1] - subjectFocus[\"ratingPhase1\"][\"time_elapsed\"][0]\n",
    "    duration_rating_phase1_min = duration_rating_phase1_ms/1000/60\n",
    "    print(\"the rating phase 1 lasts: \" + str(duration_rating_phase1_min) + \" minutes.\")"
   ]
  },
  {
   "cell_type": "code",
   "execution_count": 11,
   "id": "1438d3c2",
   "metadata": {},
   "outputs": [
    {
     "name": "stdout",
     "output_type": "stream",
     "text": [
      "the rating phase 2 lasts: 18.255816666666664 minutes.\n"
     ]
    }
   ],
   "source": [
    "if len(subjectFocus[\"ratingPhase2\"]) !=0: \n",
    "    duration_rating_phase2_ms = subjectFocus[\"ratingPhase2\"][\"time_elapsed\"][len(subjectFocus[\"ratingPhase2\"][\"time_elapsed\"])-1] - subjectFocus[\"ratingPhase2\"][\"time_elapsed\"][0]\n",
    "    duration_rating_phase2_min = duration_rating_phase2_ms/1000/60\n",
    "    print(\"the rating phase 2 lasts: \" + str(duration_rating_phase2_min) + \" minutes.\")"
   ]
  },
  {
   "cell_type": "markdown",
   "id": "366a74e3",
   "metadata": {},
   "source": [
    "# Filter participants who completed"
   ]
  },
  {
   "cell_type": "code",
   "execution_count": 12,
   "id": "4cb40a9d",
   "metadata": {},
   "outputs": [],
   "source": [
    "participants_completed = []"
   ]
  },
  {
   "cell_type": "code",
   "execution_count": 16,
   "id": "245eca4e",
   "metadata": {},
   "outputs": [],
   "source": [
    "for subject in range(len(subjects)): \n",
    "    if \"completed\" in subjects[subject][\"setupData\"].columns:\n",
    "        if subjects[subject]['setupData'][\"completed\"].iloc[0] == 1: \n",
    "            if \"ratingPhase1\" in subjects[subject].keys():\n",
    "                participants_completed.append(subject)\n",
    "           "
   ]
  },
  {
   "cell_type": "code",
   "execution_count": 17,
   "id": "47aae55f",
   "metadata": {},
   "outputs": [
    {
     "data": {
      "text/plain": [
       "[1]"
      ]
     },
     "execution_count": 17,
     "metadata": {},
     "output_type": "execute_result"
    }
   ],
   "source": [
    "participants_completed"
   ]
  },
  {
   "cell_type": "markdown",
   "id": "f6a9bb7b",
   "metadata": {},
   "source": [
    "## check number of trials in each phase"
   ]
  },
  {
   "cell_type": "code",
   "execution_count": 18,
   "id": "6cae7f83",
   "metadata": {},
   "outputs": [
    {
     "name": "stdout",
     "output_type": "stream",
     "text": [
      "142\n",
      "35\n",
      "142\n",
      "142\n"
     ]
    }
   ],
   "source": [
    "for subject in participants_completed: \n",
    "    viewing_phase = subjects[subject][\"viewingPhase\"]\n",
    "    length_viewing = viewing_phase[viewing_phase[\"trial_type\"]==\"videoViewingTask\"]\n",
    "    length_attention = viewing_phase[viewing_phase[\"trial_type\"]==\"attentionCheckTask\"]\n",
    "    print(len(length_viewing))\n",
    "    print(len(length_attention))\n",
    "    \n",
    "    rating_phase1 = subjects[subject][\"ratingPhase1\"]\n",
    "    print(len(rating_phase1))\n",
    "    rating_phase2 = subjects[subject][\"ratingPhase2\"]\n",
    "    print(len(rating_phase2))"
   ]
  },
  {
   "cell_type": "markdown",
   "id": "ae1c971c",
   "metadata": {},
   "source": [
    "# check order of viewing phase"
   ]
  },
  {
   "cell_type": "code",
   "execution_count": 19,
   "id": "dfec077c",
   "metadata": {},
   "outputs": [
    {
     "name": "stdout",
     "output_type": "stream",
     "text": [
      "0    oSLrRv2A4tY3W9shdteHa9dr67l2\n",
      "Name: uid_firebase, dtype: object\n"
     ]
    },
    {
     "data": {
      "image/png": "[encoded data removed]",
      "text/plain": [
       "<Figure size 1296x432 with 1 Axes>"
      ]
     },
     "metadata": {
      "needs_background": "light"
     },
     "output_type": "display_data"
    }
   ],
   "source": [
    "for subject in participants_completed:\n",
    "    subjectFocus = subjects[subject]\n",
    "    print(subjectFocus[\"setupData\"][\"uid_firebase\"])\n",
    "    dist_check_table = subjectFocus[\"viewingPhase\"][[\"videoId\", \"trialNumber\",\"intensityBin\", \"trial_type\",\"emotionName\"]]\n",
    "    # Plot for emotionName with attention check lines\n",
    "    plt.figure(figsize=(18, 6))\n",
    "\n",
    "    # Lists to store legend handles and labels\n",
    "    legend_handles = []\n",
    "    legend_labels = []\n",
    "\n",
    "    # Loop through each row in the DataFrame\n",
    "    for index, row in dist_check_table.iterrows():\n",
    "        trial_number = row['trialNumber']\n",
    "        emotion = row['emotionName']\n",
    "        if row['trial_type'] == 'attentionCheckTask':\n",
    "            # Draw a black dashed line for attention check trials\n",
    "            plt.axvline(x=trial_number, color='black', linestyle='--')\n",
    "        else:\n",
    "            # Plot a colored dot for regular trials\n",
    "            color = 'red' if emotion == 'romance' else 'blue' if emotion == 'sadness' else 'green' if emotion == 'disgust' else 'yellow' if emotion == 'joy' else 'black'\n",
    "            plt.bar(trial_number, 1, color=color, width=0.8)  # Set width to 0.8 for thinner bars\n",
    "\n",
    "            # Add the handle and label for the legend\n",
    "            if emotion not in legend_labels:\n",
    "                legend_handles.append(Patch(color=color))\n",
    "                legend_labels.append(emotion)\n",
    "\n",
    "    # Add legend\n",
    "    plt.legend(legend_handles, legend_labels, title='Emotion')\n",
    "\n",
    "    plt.xlabel('Trial')\n",
    "    plt.yticks([])  # Hide y-axis ticks and labels\n",
    "    plt.title('Order of Videos Shown Colored by Emotion and Attention Check Lines')\n",
    "    plt.show()"
   ]
  },
  {
   "cell_type": "code",
   "execution_count": 20,
   "id": "e6da6fb5",
   "metadata": {},
   "outputs": [
    {
     "name": "stdout",
     "output_type": "stream",
     "text": [
      "0    oSLrRv2A4tY3W9shdteHa9dr67l2\n",
      "Name: uid_firebase, dtype: object\n"
     ]
    },
    {
     "data": {
      "image/png": "[encoded data removed]",
      "text/plain": [
       "<Figure size 1296x432 with 1 Axes>"
      ]
     },
     "metadata": {
      "needs_background": "light"
     },
     "output_type": "display_data"
    }
   ],
   "source": [
    "for subject in participants_completed:\n",
    "    subjectFocus = subjects[subject]\n",
    "    print(subjectFocus[\"setupData\"][\"uid_firebase\"])\n",
    "    dist_check_table = subjectFocus[\"viewingPhase\"][[\"videoId\", \"trialNumber\",\"intensityBin\", \"trial_type\",\"emotionName\"]]\n",
    " \n",
    "    # Plot for emotionName with attention check lines\n",
    "    plt.figure(figsize=(18, 6))\n",
    "\n",
    "    # Lists to store legend handles and labels\n",
    "    legend_handles = []\n",
    "    legend_labels = []\n",
    "\n",
    "    # Loop through each row in the DataFrame\n",
    "    for index, row in dist_check_table.iterrows():\n",
    "        trial_number = row['trialNumber']\n",
    "        intensityBin = row['intensityBin']\n",
    "        if row['trial_type'] == 'attentionCheckTask':\n",
    "            # Draw a black dashed line for attention check trials\n",
    "            plt.axvline(x=trial_number, color='black', linestyle='--')\n",
    "        else:\n",
    "            # Plot a colored dot for regular trials\n",
    "            color = 'purple' if intensityBin == 1 else 'cyan' if intensityBin == 2 else 'darkgreen' if intensityBin == 3 else 'brown' if intensityBin == 4 else 'pink'\n",
    "            plt.bar(trial_number, 1, color=color, width=0.8)  # Set width to 0.8 for thinner bars\n",
    "\n",
    "            # Add the handle and label for the legend\n",
    "            if intensityBin not in legend_labels:\n",
    "                legend_handles.append(Patch(color=color))\n",
    "                legend_labels.append(intensityBin)\n",
    "\n",
    "    # Add legend\n",
    "    plt.legend(legend_handles, legend_labels, title='Intensity')\n",
    "\n",
    "    plt.xlabel('Trial')\n",
    "    plt.yticks([])  # Hide y-axis ticks and labels\n",
    "    plt.title('Order of Videos Shown Colored by Intensity Bin and Attention Check Lines')\n",
    "    plt.show()\n"
   ]
  },
  {
   "cell_type": "code",
   "execution_count": 21,
   "id": "385b004f",
   "metadata": {},
   "outputs": [
    {
     "name": "stdout",
     "output_type": "stream",
     "text": [
      "0    oSLrRv2A4tY3W9shdteHa9dr67l2\n",
      "Name: uid_firebase, dtype: object\n",
      "  videoId  trialNumber  intensityBin          trial_type emotionName\n",
      "0    1086            1           2.0    videoViewingTask     romance\n",
      "1    1725            2           2.0    videoViewingTask     sadness\n",
      "2     NaN            3           NaN  attentionCheckTask         NaN\n",
      "3    1137            4           2.0    videoViewingTask     disgust\n",
      "4    1012            5           2.0    videoViewingTask         joy\n"
     ]
    }
   ],
   "source": [
    "for subject in participants_completed:\n",
    "    subjectFocus = subjects[subject]\n",
    "    print(subjectFocus[\"setupData\"][\"uid_firebase\"])\n",
    "    dist_check_table = subjectFocus[\"viewingPhase\"][[\"videoId\", \"trialNumber\",\"intensityBin\", \"trial_type\",\"emotionName\"]]\n",
    "    print(dist_check_table.head())"
   ]
  },
  {
   "cell_type": "markdown",
   "id": "ba913bce",
   "metadata": {},
   "source": [
    "# check order of rating phases"
   ]
  },
  {
   "cell_type": "code",
   "execution_count": 22,
   "id": "dcb7af6a",
   "metadata": {},
   "outputs": [
    {
     "name": "stdout",
     "output_type": "stream",
     "text": [
      "1\n"
     ]
    },
    {
     "data": {
      "image/png": "[encoded data removed]",
      "text/plain": [
       "<Figure size 1296x432 with 1 Axes>"
      ]
     },
     "metadata": {
      "needs_background": "light"
     },
     "output_type": "display_data"
    }
   ],
   "source": [
    "for subject in participants_completed:\n",
    "    subjectFocus = subjects[subject]\n",
    "    print(subject)\n",
    "    dist_check_table = subjectFocus[\"ratingPhase1\"][[\"videoID\", \"trialNumber\",\"emotionName\"]]\n",
    "    # Plot for emotionName with attention check lines\n",
    "    plt.figure(figsize=(18, 6))\n",
    "\n",
    "    # Lists to store legend handles and labels\n",
    "    legend_handles = []\n",
    "    legend_labels = []\n",
    "\n",
    "    # Loop through each row in the DataFrame\n",
    "    for index, row in dist_check_table.iterrows():\n",
    "        trial_number = row['trialNumber']\n",
    "        emotion = row['emotionName']\n",
    "    \n",
    "        # Plot a colored dot for regular trials\n",
    "        color = 'red' if emotion == 'romance' else 'blue' if emotion == 'sadness' else 'green' if emotion == 'disgust' else 'yellow' if emotion == 'joy' else 'black'\n",
    "        plt.bar(trial_number, 1, color=color, width=0.8)  # Set width to 0.8 for thinner bars\n",
    "\n",
    "        # Add the handle and label for the legend\n",
    "        if emotion not in legend_labels:\n",
    "            legend_handles.append(Patch(color=color))\n",
    "            legend_labels.append(emotion)\n",
    "\n",
    "    # Add legend\n",
    "    plt.legend(legend_handles, legend_labels, title='Emotion')\n",
    "\n",
    "    plt.xlabel('Trial')\n",
    "    plt.yticks([])  # Hide y-axis ticks and labels\n",
    "    plt.title('Order of Videos Shown Colored by Emotion in Rating Phase 1')\n",
    "    plt.show()"
   ]
  },
  {
   "cell_type": "code",
   "execution_count": 23,
   "id": "d87a5c5b",
   "metadata": {},
   "outputs": [
    {
     "name": "stdout",
     "output_type": "stream",
     "text": [
      "1\n"
     ]
    },
    {
     "data": {
      "image/png": "[encoded data removed]",
      "text/plain": [
       "<Figure size 1296x432 with 1 Axes>"
      ]
     },
     "metadata": {
      "needs_background": "light"
     },
     "output_type": "display_data"
    }
   ],
   "source": [
    "for subject in participants_completed:\n",
    "    subjectFocus = subjects[subject]\n",
    "    print(subject)\n",
    "    dist_check_table = subjectFocus[\"ratingPhase2\"][[\"videoID\", \"trialNumber\",\"emotionName\"]]\n",
    "    # Plot for emotionName with attention check lines\n",
    "    plt.figure(figsize=(18, 6))\n",
    "\n",
    "    # Lists to store legend handles and labels\n",
    "    legend_handles = []\n",
    "    legend_labels = []\n",
    "\n",
    "    # Loop through each row in the DataFrame\n",
    "    for index, row in dist_check_table.iterrows():\n",
    "        trial_number = row['trialNumber']\n",
    "        emotion = row['emotionName']\n",
    "    \n",
    "        # Plot a colored dot for regular trials\n",
    "        color = 'red' if emotion == 'romance' else 'blue' if emotion == 'sadness' else 'green' if emotion == 'disgust' else 'yellow' if emotion == 'joy' else 'black'\n",
    "        plt.bar(trial_number, 1, color=color, width=0.8)  # Set width to 0.8 for thinner bars\n",
    "\n",
    "        # Add the handle and label for the legend\n",
    "        if emotion not in legend_labels:\n",
    "            legend_handles.append(Patch(color=color))\n",
    "            legend_labels.append(emotion)\n",
    "\n",
    "    # Add legend\n",
    "    plt.legend(legend_handles, legend_labels, title='Emotion')\n",
    "\n",
    "    plt.xlabel('Trial')\n",
    "    plt.yticks([])  # Hide y-axis ticks and labels\n",
    "    plt.title('Order of Videos Shown Colored by Emotion in Rating Phase 1')\n",
    "    plt.show()\n"
   ]
  },
  {
   "cell_type": "markdown",
   "id": "93694024",
   "metadata": {},
   "source": [
    "# Check videos long and short in rating phases 1 and 2"
   ]
  },
  {
   "cell_type": "code",
   "execution_count": 24,
   "id": "1d0f15a6",
   "metadata": {},
   "outputs": [],
   "source": [
    "# Check if half of the rows in each phase have a duration of 900 and 2600\n",
    "def check_half_rows(df):\n",
    "    half_rows = len(df) // 2\n",
    "    count_900 = df[df['durationBlackScreen'] == 900]['durationBlackScreen'].count()\n",
    "    count_2600 = df[df['durationBlackScreen'] == 2600]['durationBlackScreen'].count()\n",
    "    return count_900, count_2600 "
   ]
  },
  {
   "cell_type": "code",
   "execution_count": 25,
   "id": "7c159f57",
   "metadata": {},
   "outputs": [],
   "source": [
    "# Check if each row has different durations in the two phases\n",
    "def check_different_durations(df):\n",
    "    return (df['durationBlackScreen_phase1'] != df['durationBlackScreen_phase2']).all()"
   ]
  },
  {
   "cell_type": "code",
   "execution_count": 26,
   "id": "e45a11c9",
   "metadata": {},
   "outputs": [
    {
     "name": "stdout",
     "output_type": "stream",
     "text": [
      "0    oSLrRv2A4tY3W9shdteHa9dr67l2\n",
      "Name: uid_firebase, dtype: object\n",
      "In phase 1, 70 video have a duration 900ms and 72 have a duration 2600ms.\n",
      "In phase 2, 72 video have a duration 900ms and 70 have a duration 2600ms.\n",
      "Each row has different durations in the two phases: True\n"
     ]
    }
   ],
   "source": [
    "for subject in participants_completed:\n",
    "    subjectFocus = subjects[subject]\n",
    "    print(subjectFocus[\"setupData\"][\"uid_firebase\"])\n",
    "    two_rating_phases = pd.merge(subjectFocus[\"ratingPhase1\"][[\"videoID\", \"durationBlackScreen\"]],\n",
    "                     subjectFocus[\"ratingPhase2\"][[\"videoID\", \"durationBlackScreen\"]],\n",
    "                     on='videoID',\n",
    "                     suffixes=('_phase1', '_phase2'))\n",
    "    phase1_count_900, phase1_count_2600 = check_half_rows(subjectFocus[\"ratingPhase1\"])\n",
    "    phase2_count_900, phase2_count_2600 = check_half_rows(subjectFocus[\"ratingPhase2\"])\n",
    "\n",
    "    print(f\"In phase 1, {phase1_count_900} video have a duration 900ms and {phase1_count_2600} have a duration 2600ms.\")\n",
    "    print(f\"In phase 2, {phase2_count_900} video have a duration 900ms and {phase2_count_2600} have a duration 2600ms.\")\n",
    "    \n",
    "    different_durations = check_different_durations(two_rating_phases)\n",
    "\n",
    "    print(\"Each row has different durations in the two phases:\", different_durations)"
   ]
  },
  {
   "cell_type": "markdown",
   "id": "b252c655",
   "metadata": {},
   "source": [
    "# Check if the durations of ratings are actually 900 and 2600 ms"
   ]
  },
  {
   "cell_type": "code",
   "execution_count": 28,
   "id": "4bfa1702",
   "metadata": {},
   "outputs": [
    {
     "name": "stdout",
     "output_type": "stream",
     "text": [
      "    timeSnapshotAppears  timeSnapshotDisappears  durationBlackScreen  \\\n",
      "38            1449645.3               1452656.9                 2600   \n",
      "44            1501662.5               1504656.2                 2600   \n",
      "46            1518578.4               1521657.6                 2600   \n",
      "58            1619657.8               1620657.4                  900   \n",
      "\n",
      "    actual_duration  actualVsexpected  \n",
      "38           3011.6             False  \n",
      "44           2993.7             False  \n",
      "46           3079.2             False  \n",
      "58            999.6             False  \n",
      "Empty DataFrame\n",
      "Columns: [timeSnapshotAppears, timeSnapshotDisappears, durationBlackScreen, actual_duration, actualVsexpected]\n",
      "Index: []\n"
     ]
    }
   ],
   "source": [
    "tolerance = 50\n",
    "for subject in participants_completed:\n",
    "    subjectFocus = subjects[subject]\n",
    "    phase_1_durations = subjectFocus[\"ratingPhase1\"][[\"timeSnapshotAppears\", 'timeSnapshotDisappears', \"durationBlackScreen\"]].copy()\n",
    "    phase_2_durations = subjectFocus[\"ratingPhase2\"][[\"timeSnapshotAppears\", 'timeSnapshotDisappears', \"durationBlackScreen\"]].copy()\n",
    "    phase_1_durations.loc[:, \"actual_duration\"] = phase_1_durations[\"timeSnapshotDisappears\"] - phase_1_durations[\"timeSnapshotAppears\"]\n",
    "    phase_2_durations.loc[:, 'actual_duration'] = phase_2_durations[\"timeSnapshotDisappears\"] - phase_2_durations[\"timeSnapshotAppears\"]\n",
    "    # Check if the difference is within the tolerance\n",
    "    phase_1_durations.loc[:, \"actualVsexpected\"] = abs(phase_1_durations[\"actual_duration\"] - phase_1_durations[\"durationBlackScreen\"]) <= tolerance\n",
    "    phase_2_durations.loc[:, 'actualVsexpected'] = abs(phase_2_durations[\"actual_duration\"] - phase_2_durations[\"durationBlackScreen\"]) <= tolerance\n",
    "    \n",
    "    # Print the rows where the actual duration is not within the expected range\n",
    "    print(phase_1_durations[phase_1_durations[\"actualVsexpected\"] == False])\n",
    "    print(phase_2_durations[phase_2_durations[\"actualVsexpected\"] == False])"
   ]
  },
  {
   "cell_type": "code",
   "execution_count": null,
   "id": "41a0b7df",
   "metadata": {},
   "outputs": [],
   "source": []
  }
 ],
 "metadata": {
  "kernelspec": {
   "display_name": "Python 3 (ipykernel)",
   "language": "python",
   "name": "python3"
  },
  "language_info": {
   "codemirror_mode": {
    "name": "ipython",
    "version": 3
   },
   "file_extension": ".py",
   "mimetype": "text/x-python",
   "name": "python",
   "nbconvert_exporter": "python",
   "pygments_lexer": "ipython3",
   "version": "3.9.12"
  },
  "toc": {
   "base_numbering": 1,
   "nav_menu": {},
   "number_sections": true,
   "sideBar": true,
   "skip_h1_title": false,
   "title_cell": "Table of Contents",
   "title_sidebar": "Contents",
   "toc_cell": false,
   "toc_position": {},
   "toc_section_display": true,
   "toc_window_display": false
  }
 },
 "nbformat": 4,
 "nbformat_minor": 5
}
